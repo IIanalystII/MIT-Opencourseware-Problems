{
 "cells": [
  {
   "cell_type": "markdown",
   "metadata": {},
   "source": [
    "# Assignment 1\n",
    "## Part A - Saving for the Dream Home\n",
    "\n",
    "You have graduated from MIT and now have a great job! You move to the San Francisco Bay Area and\n",
    "decide that you want to start saving to buy a house.  As housing prices are very high in the Bay Area,\n",
    "you realize you are going to have to save for several years before you can afford to make the down\n",
    "payment on a house. In Part A, we are going to determine how long it will take you to save enough\n",
    "money to make the down payment given the following assumptions:\n",
    "\n",
    "1. Call the cost of your dream home total_cost.\n",
    "\n",
    "2. Call the portion of the cost needed for a down payment portion_down_payment. For simplicity, assume that portion_down_payment = 0.25 (25%).\n",
    "\n",
    "3. Call the amount that you have saved thus far current_savings. You start with a current savings of $0. \n",
    "\n",
    "4. Assume that you invest your current savings wisely, with an annual return of r (in other words,\n",
    "at the end of each month, you receive an additional current_savings*r/12 funds to put into\n",
    "your savings – the 12 is because r is an annual rate). Assume that your investments earn a \n",
    "return of r = 0.04 (4%).\n",
    "\n",
    "5. Assume your annual salary is annual_salary.\n",
    "\n",
    "6. Assume you are going to dedicate a certain amount of your salary each month to saving for \n",
    "the down payment. Call that portion_saved. This variable should be in decimal form (i.e. 0.1\n",
    "for 10%). \n",
    "\n",
    "7. At the end of each month, your savings will be increased by the return on your investment,\n",
    "plus a percentage of your monthly salary (annual salary / 12).\n",
    "\n",
    "\n",
    "Write a program to calculate how many months it will take you to save up enough money for a down\n",
    "payment. You will want your main variables to be floats, so you should cast user inputs to floats. "
   ]
  },
  {
   "cell_type": "code",
   "execution_count": 2,
   "metadata": {},
   "outputs": [],
   "source": [
    "import numpy\n",
    "import math"
   ]
  },
  {
   "cell_type": "code",
   "execution_count": 6,
   "metadata": {},
   "outputs": [
    {
     "name": "stdin",
     "output_type": "stream",
     "text": [
      "How many mos do you want to save up? 40\n",
      "Cost of Dream House xxx: 1000000\n",
      "Percent Down .xx: .25\n",
      "Current Savings xxx: 0\n",
      "Annual Rate of Return on Savings .xx: .07\n",
      "Salary xxx: 150000\n",
      "Semiannual Raise .xx .07\n"
     ]
    },
    {
     "name": "stdout",
     "output_type": "stream",
     "text": [
      "The proper savings percentage is: 36.80 %\n"
     ]
    }
   ],
   "source": [
    "#Find the best savings to achieve a down payment on a $1M house in 36 months if you get a raise every 6 months of some amount.\n",
    "\n",
    "def right_amount_to_save():\n",
    "    how_many_mos = float(input('How many mos do you want to save up?'))\n",
    "    total_cost = float(input('Cost of Dream House xxx:'))\n",
    "    portion_down_payment = float(input('Percent Down .xx:'))\n",
    "    down_payment = float(portion_down_payment * total_cost)\n",
    "    \n",
    "    current_savings = float(input('Current Savings xxx:'))\n",
    "    r = float(input('Annual Rate of Return on Savings .xx:'))\n",
    "   \n",
    "    annual_salary = float(input('Salary xxx:'))\n",
    "    x = annual_salary   \n",
    "    \n",
    "    portion_saved = float(.001)\n",
    "    i = float(6)\n",
    "    the_raise = float(input('Semiannual Raise .xx'))\n",
    "    month = float(0)\n",
    "    \n",
    "    while current_savings < down_payment:\n",
    "        month += 1\n",
    "        remainder_month = month%i\n",
    "        current_savings += float(current_savings*r/12) + float(annual_salary/12*portion_saved)\n",
    "        if month > 0:\n",
    "            if remainder_month == 0:\n",
    "                annual_salary += annual_salary*the_raise\n",
    "        if current_savings >= down_payment:\n",
    "            if month > how_many_mos:\n",
    "                portion_saved += .001\n",
    "                month = float(0)\n",
    "                current_savings = float(0)\n",
    "                annual_salary = float(x)\n",
    "            if month == how_many_mos:\n",
    "                portion_saved = portion_saved * 100\n",
    "                formatted_ans = \"{:.2f}\".format(portion_saved)\n",
    "                return print('The proper savings percentage is:', formatted_ans,\"%\")\n",
    "\n",
    "right_amount_to_save()"
   ]
  },
  {
   "cell_type": "code",
   "execution_count": null,
   "metadata": {},
   "outputs": [],
   "source": []
  },
  {
   "cell_type": "code",
   "execution_count": null,
   "metadata": {},
   "outputs": [],
   "source": []
  }
 ],
 "metadata": {
  "kernelspec": {
   "display_name": "Python 3",
   "language": "python",
   "name": "python3"
  },
  "language_info": {
   "codemirror_mode": {
    "name": "ipython",
    "version": 3
   },
   "file_extension": ".py",
   "mimetype": "text/x-python",
   "name": "python",
   "nbconvert_exporter": "python",
   "pygments_lexer": "ipython3",
   "version": "3.8.5"
  }
 },
 "nbformat": 4,
 "nbformat_minor": 4
}
