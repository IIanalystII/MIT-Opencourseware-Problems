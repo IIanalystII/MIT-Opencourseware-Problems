{
 "cells": [
  {
   "cell_type": "markdown",
   "metadata": {},
   "source": [
    "# MIT Opencourseware - Assignment #0"
   ]
  },
  {
   "cell_type": "markdown",
   "metadata": {},
   "source": [
    "Write a program that does the following in order:\n",
    "\n",
    "    1. Asks the user to enter a number \"x\"\n",
    "    2. Asks the user to enter a number \"y\"\n",
    "    3. Prints out number \"x\", raised to the power of \"y\".\n",
    "    4. Prints out the log (base 2) of \"x\"."
   ]
  },
  {
   "cell_type": "code",
   "execution_count": 22,
   "metadata": {},
   "outputs": [],
   "source": [
    "import numpy"
   ]
  },
  {
   "cell_type": "code",
   "execution_count": 41,
   "metadata": {},
   "outputs": [],
   "source": [
    "def Assignment0():\n",
    "    x = int(input(\"Enter x:\"))\n",
    "    y = int(input(\"Enter y:\"))\n",
    "    number = int(x ** y)\n",
    "    log = numpy.log2(int(x))\n",
    "    print(\"x**y = \", number)\n",
    "    print(\"log(x) = \", log)"
   ]
  },
  {
   "cell_type": "code",
   "execution_count": 42,
   "metadata": {},
   "outputs": [
    {
     "name": "stdin",
     "output_type": "stream",
     "text": [
      "Enter x: 2\n",
      "Enter y: 2\n"
     ]
    },
    {
     "name": "stdout",
     "output_type": "stream",
     "text": [
      "x**y =  4\n",
      "log(x) =  1.0\n"
     ]
    }
   ],
   "source": [
    "Assignment0()"
   ]
  },
  {
   "cell_type": "code",
   "execution_count": null,
   "metadata": {},
   "outputs": [],
   "source": []
  }
 ],
 "metadata": {
  "kernelspec": {
   "display_name": "Python 3",
   "language": "python",
   "name": "python3"
  },
  "language_info": {
   "codemirror_mode": {
    "name": "ipython",
    "version": 3
   },
   "file_extension": ".py",
   "mimetype": "text/x-python",
   "name": "python",
   "nbconvert_exporter": "python",
   "pygments_lexer": "ipython3",
   "version": "3.8.5"
  }
 },
 "nbformat": 4,
 "nbformat_minor": 4
}
